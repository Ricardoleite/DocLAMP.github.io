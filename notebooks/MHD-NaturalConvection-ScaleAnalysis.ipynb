{
 "cells": [
  {
   "cell_type": "markdown",
   "metadata": {},
   "source": [
    "# MHD-Natural Convection"
   ]
  },
  {
   "cell_type": "markdown",
   "metadata": {},
   "source": [
    "## Square Enclosure\n",
    "\n",
    "Consider a two-dimensional enclosure of height $H$ and horizontal length $L$. The enclosure is filled with a Newtonian fluid such as air or water.\n",
    "\n",
    "<img src=\"MHD-Nat2.png\" style=\"width:300px;height:300px\"/>\n",
    "\n",
    "We are interested in the transient behavior of the cavity fluid as the sidewalls are instantaneously heated and, respectively, cooled to temperatures $+\\Delta T/2$ and $-\\Delta T/2$. The top and bottom walls $(y=0,H)$ remain insulated throughout this experiment. Initially, the fluid is isothermal $(T=0)$ and motionless $(u=v=0)$ everywhere inside the cavity."
   ]
  },
  {
   "cell_type": "markdown",
   "metadata": {},
   "source": [
    "## Balance Equations\n",
    "\n",
    "The equations governing the conservation of mass, momentum, and energy at\n",
    "every point in the cavity are\n",
    "\n",
    "$\\displaystyle\\frac{\\partial u}{\\partial x}+\\frac{\\partial v}{\\partial y}=0$\n",
    "\n",
    "$\\displaystyle\\frac{\\partial u}{\\partial t}+u \\frac{\\partial u}{\\partial x}+v \\frac{\\partial u}{\\partial y}=-\\frac{1}{\\rho} \\frac{\\partial P}{\\partial x}+\\nu\\left(\\frac{\\partial^{2} u}{\\partial x^{2}}+\\frac{\\partial^{2} u}{\\partial y^{2}}\\right)-\\displaystyle\\frac{\\sigma B_{0}^{2}}{\\rho}u$\n",
    "\n",
    "$\\displaystyle\\frac{\\partial v}{\\partial t}+u \\frac{\\partial v}{\\partial x}+v \\frac{\\partial v}{\\partial y}=-\\frac{1}{\\rho} \\frac{\\partial P}{\\partial y}+\\nu\\left(\\frac{\\partial^{2} v}{\\partial x^{2}}+\\frac{\\partial^{2} v}{\\partial y^{2}}\\right)-g\\left[1-\\beta\\left(T-T_{0}\\right)\\right]$\n",
    "\n",
    "$\\displaystyle\\frac{\\partial T}{\\partial t}+u \\frac{\\partial T}{\\partial x}+v \\frac{\\partial T}{\\partial y}=\\alpha\\left(\\frac{\\partial^{2} T}{\\partial x^{2}}+\\frac{\\partial^{2} T}{\\partial y^{2}}\\right)$\n",
    "\n",
    "Note that in writing these equations, we modeled the fluid as Boussinesq-incompressible, in other words, $\\rho=constant$ everywhere except in the body force term of the $y$ momentum equation, where it is replaced by $\\rho[1-\\beta (T-T_{0})]$. The fluid is permeated by a uniform magnetic field $B_{0}$ along the y direction, parallel to gravity. Further we assume that the induced electric current does not distort appreciably the applied magnetic field."
   ]
  },
  {
   "cell_type": "code",
   "execution_count": null,
   "metadata": {},
   "outputs": [],
   "source": []
  }
 ],
 "metadata": {
  "kernelspec": {
   "display_name": "Python 3 (ipykernel)",
   "language": "python",
   "name": "python3"
  },
  "language_info": {
   "codemirror_mode": {
    "name": "ipython",
    "version": 3
   },
   "file_extension": ".py",
   "mimetype": "text/x-python",
   "name": "python",
   "nbconvert_exporter": "python",
   "pygments_lexer": "ipython3",
   "version": "3.10.6"
  },
  "toc": {
   "nav_menu": {},
   "number_sections": true,
   "sideBar": true,
   "skip_h1_title": false,
   "title_cell": "Table of Contents",
   "title_sidebar": "Contents",
   "toc_cell": false,
   "toc_position": {},
   "toc_section_display": true,
   "toc_window_display": false
  },
  "varInspector": {
   "cols": {
    "lenName": 16,
    "lenType": 16,
    "lenVar": 40
   },
   "kernels_config": {
    "python": {
     "delete_cmd_postfix": "",
     "delete_cmd_prefix": "del ",
     "library": "var_list.py",
     "varRefreshCmd": "print(var_dic_list())"
    },
    "r": {
     "delete_cmd_postfix": ") ",
     "delete_cmd_prefix": "rm(",
     "library": "var_list.r",
     "varRefreshCmd": "cat(var_dic_list()) "
    }
   },
   "types_to_exclude": [
    "module",
    "function",
    "builtin_function_or_method",
    "instance",
    "_Feature"
   ],
   "window_display": false
  }
 },
 "nbformat": 4,
 "nbformat_minor": 2
}
